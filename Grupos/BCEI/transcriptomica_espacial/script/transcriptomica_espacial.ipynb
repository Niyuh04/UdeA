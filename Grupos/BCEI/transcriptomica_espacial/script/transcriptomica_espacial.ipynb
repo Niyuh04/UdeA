{
 "cells": [
  {
   "cell_type": "code",
   "execution_count": null,
   "id": "99960b1b",
   "metadata": {},
   "outputs": [],
   "source": [
    "import scanpy as sc\n",
    "import pandas as pd\n",
    "import matplotlib.pyplot as plt\n",
    "import seaborn as sns"
   ]
  }
 ],
 "metadata": {
  "language_info": {
   "name": "python"
  }
 },
 "nbformat": 4,
 "nbformat_minor": 5
}
