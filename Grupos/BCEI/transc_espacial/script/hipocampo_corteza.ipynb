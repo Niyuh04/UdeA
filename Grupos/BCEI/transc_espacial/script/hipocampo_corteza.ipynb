{
 "cells": [
  {
   "cell_type": "markdown",
   "id": "1f53d759",
   "metadata": {},
   "source": [
    "Resumen del estudio (hasta antes de la parte espacial)\n",
    "\n",
    "**Muestras**\n",
    "\n",
    "Post-mortem de corteza frontal e hipocampo.\n",
    "\n",
    "Tres grupos: controles, Alzheimer esporádico (SAD), Alzheimer familiar PSEN1-E280A (ADAD).\n",
    "\n",
    "Secuenciación de ARN de núcleos (snRNA-seq).\n",
    "\n",
    "**Metadatos**\n",
    "\n",
    "Evaluaron correlaciones de edad, sexo, edad de inicio y edad de muerte con la composición celular.\n",
    "\n",
    "**Composición celular**\n",
    "\n",
    "Más astrocitos en controles.\n",
    "\n",
    "Menos oligodendrocitos en Alzheimer (ADAD y SAD).\n",
    "\n",
    "**Astrocitos – Genes diferencialmente expresados (DGE)**\n",
    "\n",
    "Comparando ADAD vs SAD, en ADAD se vio sobreexpresión de genes relacionados con mitocondrias y autofagia.\n",
    "\n",
    "**Astrocitos – Coexpresión (WGCNA)**\n",
    "\n",
    "Identificaron módulos de genes.\n",
    "\n",
    "Uno de ellos estaba fuertemente activado en ADAD y se asociaba a autofagia y degradación proteica.\n",
    "\n",
    "Sugiere un programa coordinado de autofagia más marcado en ADAD.\n",
    "\n",
    "**Neuronas – Selección y agrupación**\n",
    "\n",
    "Se agruparon en diferentes subtipos.\n",
    "\n",
    "En general, observaron que algunos subtipos neuronales estaban reducidos tanto en ADAD como en SAD, mientras que otros solo se reducían en SAD.\n",
    "\n",
    "👉 Esto indica que no todos los tipos de neuronas son igualmente vulnerables, y la susceptibilidad varía entre ADAD y SAD.\n",
    "\n",
    "**Neuronas – Genes y funciones**\n",
    "\n",
    "En neuronas excitatorias e inhibitorias hubo cientos de genes alterados en ADAD vs SAD.\n",
    "\n",
    "En ADAD, se observó una mayor activación de genes de autofagia, chaperonas y mitocondria en comparación con SAD.\n",
    "\n",
    "**Neuronas – Coexpresión (WGCNA)**\n",
    "\n",
    "En neuronas excitatorias encontraron un módulo de genes altamente activado en ADAD, que coincidía con los genes diferencialmente expresados.\n",
    "\n",
    "Refuerza la idea de que en ADAD las neuronas también activan un programa coordinado de autofagia/mitocondria distinto al SAD."
   ]
  },
  {
   "cell_type": "markdown",
   "id": "73c8028a",
   "metadata": {},
   "source": []
  }
 ],
 "metadata": {
  "language_info": {
   "name": "python"
  }
 },
 "nbformat": 4,
 "nbformat_minor": 5
}
