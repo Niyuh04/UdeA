{
 "cells": [
  {
   "cell_type": "code",
   "execution_count": 1,
   "id": "92f674bb",
   "metadata": {},
   "outputs": [
    {
     "name": "stdout",
     "output_type": "stream",
     "text": [
      "AnnData object with n_obs × n_vars = 1650 × 36601\n",
      "    var: 'gene_ids', 'feature_types', 'genome'\n",
      "obsm keys: KeysView(AxisArrays with keys: )\n",
      "No hay coordenadas espaciales en este .h5\n"
     ]
    },
    {
     "name": "stderr",
     "output_type": "stream",
     "text": [
      "c:\\Users\\jupas\\AppData\\Local\\Programs\\Python\\Python313\\Lib\\site-packages\\anndata\\_core\\anndata.py:1758: UserWarning: Variable names are not unique. To make them unique, call `.var_names_make_unique`.\n",
      "  utils.warn_names_duplicates(\"var\")\n",
      "c:\\Users\\jupas\\AppData\\Local\\Programs\\Python\\Python313\\Lib\\site-packages\\anndata\\_core\\anndata.py:1758: UserWarning: Variable names are not unique. To make them unique, call `.var_names_make_unique`.\n",
      "  utils.warn_names_duplicates(\"var\")\n"
     ]
    }
   ],
   "source": [
    "import scanpy as sc\n",
    "\n",
    "# Ruta al archivo .h5\n",
    "ruta_h5 = \"data/GSE221365_C140_c12_filtered_feature_bc_matrix.h5\"\n",
    "\n",
    "# Cargar la matriz de expresión\n",
    "adata = sc.read_10x_h5(ruta_h5)\n",
    "\n",
    "# Información general\n",
    "print(adata)\n",
    "\n",
    "# Revisar si hay coordenadas espaciales\n",
    "print(\"obsm keys:\", adata.obsm.keys())\n",
    "\n",
    "if 'spatial' in adata.obsm:\n",
    "    print(\"Coordenadas encontradas:\")\n",
    "    print(adata.obsm['spatial'][:5])\n",
    "else:\n",
    "    print(\"No hay coordenadas espaciales en este .h5\")\n"
   ]
  },
  {
   "cell_type": "code",
   "execution_count": null,
   "id": "15f4765e",
   "metadata": {},
   "outputs": [],
   "source": []
  }
 ],
 "metadata": {
  "kernelspec": {
   "display_name": "Python 3",
   "language": "python",
   "name": "python3"
  },
  "language_info": {
   "codemirror_mode": {
    "name": "ipython",
    "version": 3
   },
   "file_extension": ".py",
   "mimetype": "text/x-python",
   "name": "python",
   "nbconvert_exporter": "python",
   "pygments_lexer": "ipython3",
   "version": "3.13.4"
  }
 },
 "nbformat": 4,
 "nbformat_minor": 5
}
